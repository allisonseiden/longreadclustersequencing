{
 "cells": [
  {
   "cell_type": "markdown",
   "metadata": {},
   "source": [
    "In order to properly run the phasing programs, we need to split the VCFs into 22 VCFs by chromosome. There are two ways to do this. \n",
    "\n",
    "Option 1 - go into the program \"chromosome_split.py\" and modify the patient IDs and file locations to the correct ones, this script uses subprocess and will work much more efficiently than going through the chromosomes and IDs one by one.\n",
    "\n",
    "Option 2 - use the following commands:"
   ]
  },
  {
   "cell_type": "code",
   "execution_count": null,
   "metadata": {},
   "outputs": [],
   "source": [
    "module load tabix\n",
    "mkdir <paitent_ID> \n",
    "cd <patient_ID>\n",
    "tabix -h <original_VCF> chromosome_number > ID_chr_num.vcf # splits\n",
    "bgzip ID_chr_num.vcf # compresses\n",
    "tabix -p vcf ID_chr_num.vcf.gz # indexes"
   ]
  },
  {
   "cell_type": "markdown",
   "metadata": {},
   "source": [
    "It is imperative that you create a directory with the separated VCF files and name each file in the format \"ID_chr_num.vcf\" where you replace \"ID\" and \"num\" appropriately. This will make it much easier to run programs later on. If you choose Option 1, you must make the directories before running the script."
   ]
  },
  {
   "cell_type": "markdown",
   "metadata": {},
   "source": [
    "It's possible that you will run into issues with your BAM files. The main issue we previously ran into was non-ASCII characters present in the BAM files. To remove them:"
   ]
  },
  {
   "cell_type": "code",
   "execution_count": null,
   "metadata": {},
   "outputs": [],
   "source": [
    "module load samtools/1.8\n",
    "sed 's/[^\\x00-\\x7F]//g' original BAM file > ID_edit.sam\n",
    "grep -P -n --color=\"auto\" \"[^\\x00-\\x7F]\" ID_edit.sam # checks that non-ascii characters are removed, if they are there should be no output from this command"
   ]
  },
  {
   "cell_type": "markdown",
   "metadata": {},
   "source": [
    "You'll then need to sort and index these files before running them through Whatshap. You can do this in two ways.\n",
    "\n",
    "Option 1 - go into the program \"sort_and_index.py\" in the phasing folder and edit the IDs. As long as you name the SAM files ID_edit.sam and run the script in the same directory as the SAM files, there should be no issues with running this.\n",
    "\n",
    "Option 2 - run the following commands:"
   ]
  },
  {
   "cell_type": "code",
   "execution_count": null,
   "metadata": {},
   "outputs": [],
   "source": [
    "samtools sort -o ID_edit_sorted.bam -O bam ID_edit.sam\n",
    "samtools index ID_edit_sorted.bam"
   ]
  }
 ],
 "metadata": {
  "kernelspec": {
   "display_name": "Python 3",
   "language": "python",
   "name": "python3"
  },
  "language_info": {
   "codemirror_mode": {
    "name": "ipython",
    "version": 3
   },
   "file_extension": ".py",
   "mimetype": "text/x-python",
   "name": "python",
   "nbconvert_exporter": "python",
   "pygments_lexer": "ipython3",
   "version": "3.7.0"
  }
 },
 "nbformat": 4,
 "nbformat_minor": 2
}
