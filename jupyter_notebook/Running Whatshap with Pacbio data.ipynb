{
 "cells": [
  {
   "cell_type": "markdown",
   "metadata": {},
   "source": [
    "You're ready to run Whatshap! Woohoo! There are two ways to do so:\n",
    "\n",
    "Option 1 - modify \"no_indels_whatshap.py\" in the phasing folder to reflect the correct IDs and file locations. This option uses multiprocessing and will be more efficient than running each ID and chromosome individually. However, it makes it difficult to know if/where problems occur. \n",
    "\n",
    "Option 2 - run the following command for each ID and chromosome:"
   ]
  },
  {
   "cell_type": "code",
   "execution_count": null,
   "metadata": {},
   "outputs": [],
   "source": [
    "whatshap phase --sample=<ID> --ignore-read-groups --reference /sc/orga/projects/chdiTrios/Felix/dbs/hg38.fa \\\n",
    "                -o <file location>/<file name>"
   ]
  },
  {
   "cell_type": "markdown",
   "metadata": {},
   "source": [
    "Note: in order to make your life easier for future steps, if you choose Option 1 make sure that you have created directories for each ID named ID_no_indels within the directory in which you are running Whatshap. If you prefer not to have separate directories or differently name directories, make sure you reflect that within \"no_indels_whatshap.py\""
   ]
  },
  {
   "cell_type": "markdown",
   "metadata": {},
   "source": [
    "You will also want to generate GTF files through Whatshap for later steps. Again, you can do this in two ways.\n",
    "\n",
    "Option 1 - modify \"get_gtf.py\" in the phasing folder to reflect the correct IDs and file locations\n",
    "\n",
    "Option 2 - run the following command within the directory in which the VCF files are located for the each ID:"
   ]
  },
  {
   "cell_type": "code",
   "execution_count": null,
   "metadata": {},
   "outputs": [],
   "source": [
    "whatshap stats --gtf=<ID>_chr<num>_phased.gtf <ID>_chr<num>_phased.vcf"
   ]
  },
  {
   "cell_type": "markdown",
   "metadata": {},
   "source": [
    "It is important to make note of what you name your files. If you keep them consistent to what I've listed, you won't have to ensure that the file names match in the code I've written."
   ]
  },
  {
   "cell_type": "code",
   "execution_count": null,
   "metadata": {},
   "outputs": [],
   "source": []
  }
 ],
 "metadata": {
  "kernelspec": {
   "display_name": "Python 3",
   "language": "python",
   "name": "python3"
  },
  "language_info": {
   "codemirror_mode": {
    "name": "ipython",
    "version": 3
   },
   "file_extension": ".py",
   "mimetype": "text/x-python",
   "name": "python",
   "nbconvert_exporter": "python",
   "pygments_lexer": "ipython3",
   "version": "3.7.0"
  }
 },
 "nbformat": 4,
 "nbformat_minor": 2
}
