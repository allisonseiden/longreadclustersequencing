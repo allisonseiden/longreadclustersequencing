{
 "cells": [
  {
   "cell_type": "markdown",
   "metadata": {},
   "source": [
    "Now we will go through the steps of running Whatshap with Illumina data. This is very similar to running Whatshap with Pacbio data but with the addition of the --indels flag"
   ]
  },
  {
   "cell_type": "markdown",
   "metadata": {},
   "source": [
    "To run Whatshap with the Illumina data, you can go one of two ways:\n",
    "\n",
    "Option 1 - modify \"illumina_whatshap_int1.py\" and \"illumina_whatshap_int2.py\" to reflect the correct IDs and file locations. I split the IDs into 2 here to run on both interactive 1 and interactive 2 simultaneously just because the Illumina data takes longer than Pacbio. \n",
    "\n",
    "Option 2 - just do option 1, it's so much easier :)"
   ]
  },
  {
   "cell_type": "code",
   "execution_count": null,
   "metadata": {},
   "outputs": [],
   "source": []
  }
 ],
 "metadata": {
  "kernelspec": {
   "display_name": "Python 3",
   "language": "python",
   "name": "python3"
  },
  "language_info": {
   "codemirror_mode": {
    "name": "ipython",
    "version": 3
   },
   "file_extension": ".py",
   "mimetype": "text/x-python",
   "name": "python",
   "nbconvert_exporter": "python",
   "pygments_lexer": "ipython3",
   "version": "3.7.0"
  }
 },
 "nbformat": 4,
 "nbformat_minor": 2
}
