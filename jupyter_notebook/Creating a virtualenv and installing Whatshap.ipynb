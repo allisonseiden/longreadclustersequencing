{
 "cells": [
  {
   "cell_type": "markdown",
   "metadata": {},
   "source": [
    "Before we run any code, we want to create a virtual environment and ensure that we have all the necessary packages installed. To create a virtual environment, make sure you are in your home directory on Minerva and type the following:"
   ]
  },
  {
   "cell_type": "code",
   "execution_count": null,
   "metadata": {},
   "outputs": [],
   "source": [
    "module purge\n",
    "module load python/3.5.0\n",
    "virtualenv <name of environment>"
   ]
  },
  {
   "cell_type": "markdown",
   "metadata": {},
   "source": [
    "To enter your virtual environment, make sure you are in your home directory on Minerva and type the following:"
   ]
  },
  {
   "cell_type": "code",
   "execution_count": null,
   "metadata": {},
   "outputs": [],
   "source": [
    "source <name of environment>/bin/activate"
   ]
  },
  {
   "cell_type": "markdown",
   "metadata": {},
   "source": [
    "You should now see (name of environment) at the start of each terminal prompting line. For example:"
   ]
  },
  {
   "cell_type": "code",
   "execution_count": null,
   "metadata": {},
   "outputs": [],
   "source": [
    "(i_venv) [seidea02@minerva4 ~]$"
   ]
  },
  {
   "cell_type": "markdown",
   "metadata": {},
   "source": [
    "To leave your virtual environment, type"
   ]
  },
  {
   "cell_type": "code",
   "execution_count": null,
   "metadata": {},
   "outputs": [],
   "source": [
    "deactivate"
   ]
  },
  {
   "cell_type": "markdown",
   "metadata": {},
   "source": [
    "We will need to load a few more modules from Minerva before installing the necessary packages so exit your virtual environment for now and load the following:"
   ]
  },
  {
   "cell_type": "code",
   "execution_count": null,
   "metadata": {},
   "outputs": [],
   "source": [
    "module purge\n",
    "module load python/3.5.0 py_packages/3.5 tabix"
   ]
  },
  {
   "cell_type": "markdown",
   "metadata": {},
   "source": [
    "Now that we have the proper modules loaded, we can enter our virtual environment again and install Whatshap! In your home directory on minerva:"
   ]
  },
  {
   "cell_type": "code",
   "execution_count": null,
   "metadata": {},
   "outputs": [],
   "source": [
    "source <name of environment>/bin/activate\n",
    "pip install --upgrade pip\n",
    "pip install whatshap"
   ]
  },
  {
   "cell_type": "markdown",
   "metadata": {},
   "source": [
    "Note: make sure you are not logged into an interactive node for this part, you will need access to the internet in order to install Whatshap. Once Whatshap is installed, you can log into an interactive node.\n",
    "\n",
    "If you'd like to work in an interactive node on Minerva after completing the above steps, you'll need to reload modules before getting into your virtual environment:"
   ]
  },
  {
   "cell_type": "code",
   "execution_count": null,
   "metadata": {},
   "outputs": [],
   "source": [
    "ssh interactive_num\n",
    "module load python/3.5.0 py_packages/3.5 tabix\n",
    "source <name of environment>/bin/activate"
   ]
  },
  {
   "cell_type": "markdown",
   "metadata": {},
   "source": [
    "To double check that you have installed Whatshap correctly, you can type \"whatshap\" and the help menu should show up.\n",
    "\n",
    "Congratulations! You have succesfully installed Whatshap! Now, we will make sure our files are in the right format before inputting them into Whatshap."
   ]
  }
 ],
 "metadata": {
  "kernelspec": {
   "display_name": "Python 3",
   "language": "python",
   "name": "python3"
  },
  "language_info": {
   "codemirror_mode": {
    "name": "ipython",
    "version": 3
   },
   "file_extension": ".py",
   "mimetype": "text/x-python",
   "name": "python",
   "nbconvert_exporter": "python",
   "pygments_lexer": "ipython3",
   "version": "3.7.0"
  }
 },
 "nbformat": 4,
 "nbformat_minor": 2
}
